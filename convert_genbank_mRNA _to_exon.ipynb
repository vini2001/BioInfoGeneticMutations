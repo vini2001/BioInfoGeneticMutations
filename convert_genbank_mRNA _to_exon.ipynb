{
 "cells": [
  {
   "cell_type": "code",
   "execution_count": 9,
   "metadata": {},
   "outputs": [
    {
     "data": {
      "text/plain": [
       "[[0, 651],\n",
       " [3990, 4070],\n",
       " [7504, 7588],\n",
       " [13177, 13280],\n",
       " [15082, 15161],\n",
       " [19119, 19840],\n",
       " [24224, 24870],\n",
       " [27187, 28738],\n",
       " [29784, 30053],\n",
       " [32123, 32414],\n",
       " [33052, 33251],\n",
       " [36371, 36574],\n",
       " [39042, 39152],\n",
       " [42405, 42540],\n",
       " [46299, 46523],\n",
       " [47382, 47610],\n",
       " [48636, 49336]]"
      ]
     },
     "execution_count": 9,
     "metadata": {},
     "output_type": "execute_result"
    }
   ],
   "source": [
    "mRNA = '''1..651,3991..4070,7505..7588,13178..13280,\n",
    "                     15083..15161,19120..19840,24225..24870,27188..28738,\n",
    "                     29785..30053,32124..32414,33053..33251,36372..36574,\n",
    "                     39043..39152,42406..42540,46300..46523,47383..47610,\n",
    "                     48637..49336'''\n",
    "\n",
    "# split by ..\n",
    "mRNA = mRNA.split(',')\n",
    "#remove all \\n items\n",
    "mRNA = [i.replace('\\n','') for i in mRNA]\n",
    "#trim all items\n",
    "mRNA = [i.strip() for i in mRNA]\n",
    "mRNA = [[int(i.split('..')[0])-1, int(i.split('..')[1])] for i in mRNA]\n",
    "mRNA\n"
   ]
  },
  {
   "cell_type": "code",
   "execution_count": 1,
   "metadata": {},
   "outputs": [],
   "source": [
    "mRNA = '''1..185,24291..24401,29072..29180,50937..51152,\n",
    "                     54314..54403,55286..55449,56586..56711,60138..60384,\n",
    "                     62054..62146,68679..68861,79502..79693,107777..107871,\n",
    "                     110391..110477,111972..112695,114968..115096,\n",
    "                     122864..122901,123570..123820,126712..126791,\n",
    "                     130557..130707,131619..131846,134651..134751,\n",
    "                     147560..147808,162476..162631,172880..172969,\n",
    "                     184726..184898,185497..185602,186946..188703'''\n",
    "\n",
    "# split by ..\n",
    "mRNA = mRNA.split(',')\n",
    "#remove all \\n items\n",
    "mRNA = [i.replace('\\n','') for i in mRNA]\n",
    "#trim all items\n",
    "mRNA = [i.strip() for i in mRNA]\n",
    "mRNA = [[int(i.split('..')[0])-1, int(i.split('..')[1])] for i in mRNA]\n",
    "\n",
    "# export to tsv file cftr_exon.tsv\n",
    "with open('cftr_exon.tsv', 'w') as f:\n",
    "    for i in mRNA:\n",
    "        f.write(str(i[0]) + '\\t' + str(i[1]) + '\\n')"
   ]
  },
  {
   "cell_type": "code",
   "execution_count": null,
   "metadata": {},
   "outputs": [],
   "source": []
  }
 ],
 "metadata": {
  "kernelspec": {
   "display_name": "Python 3.8.8 ('base')",
   "language": "python",
   "name": "python3"
  },
  "language_info": {
   "codemirror_mode": {
    "name": "ipython",
    "version": 3
   },
   "file_extension": ".py",
   "mimetype": "text/x-python",
   "name": "python",
   "nbconvert_exporter": "python",
   "pygments_lexer": "ipython3",
   "version": "3.8.8"
  },
  "orig_nbformat": 4,
  "vscode": {
   "interpreter": {
    "hash": "22f95e311c68f3ef24dec89002d510ee6526f7630a634e3dd287dbabe6aa6075"
   }
  }
 },
 "nbformat": 4,
 "nbformat_minor": 2
}
